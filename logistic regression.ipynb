{
 "cells": [
  {
   "cell_type": "code",
   "execution_count": 70,
   "id": "initial_id",
   "metadata": {
    "collapsed": true,
    "ExecuteTime": {
     "end_time": "2024-02-09T20:20:48.481136900Z",
     "start_time": "2024-02-09T20:20:48.374376700Z"
    }
   },
   "outputs": [],
   "source": [
    "import pandas as pd\n",
    "import numpy as np\n",
    "import matplotlib.pyplot as plt\n",
    "import math"
   ]
  },
  {
   "cell_type": "code",
   "outputs": [
    {
     "data": {
      "text/plain": "<Figure size 640x480 with 1 Axes>",
      "image/png": "[encoded data removed]"
     },
     "metadata": {},
     "output_type": "display_data"
    }
   ],
   "source": [
    "def sigmoid(z):\n",
    "    g = 1 / (1 + np.exp(-z))\n",
    "    return g\n",
    "\n",
    "k = np.arange (-20, 20, .1)\n",
    "l = sigmoid(k)\n",
    "\n",
    "plt.plot(k, l)\n",
    "plt.show()"
   ],
   "metadata": {
    "collapsed": false,
    "ExecuteTime": {
     "end_time": "2024-02-09T20:20:49.039758100Z",
     "start_time": "2024-02-09T20:20:48.489822200Z"
    }
   },
   "id": "6080156b61cc6902",
   "execution_count": 71
  },
  {
   "cell_type": "code",
   "outputs": [],
   "source": [],
   "metadata": {
    "collapsed": false,
    "ExecuteTime": {
     "end_time": "2024-02-09T20:20:49.053389300Z",
     "start_time": "2024-02-09T20:20:49.037532400Z"
    }
   },
   "id": "fe38deec89726597",
   "execution_count": 71
  },
  {
   "cell_type": "code",
   "outputs": [
    {
     "data": {
      "text/plain": "   Survived  Pclass  Sex   Age  Siblings/Spouses Aboard  \\\n0         0       3    1  22.0                        1   \n1         1       1    0  38.0                        1   \n2         1       3    0  26.0                        0   \n3         1       1    0  35.0                        1   \n4         0       3    1  35.0                        0   \n\n   Parents/Children Aboard     Fare  \n0                        0   7.2500  \n1                        0  71.2833  \n2                        0   7.9250  \n3                        0  53.1000  \n4                        0   8.0500  ",
      "text/html": "<div>\n<style scoped>\n    .dataframe tbody tr th:only-of-type {\n        vertical-align: middle;\n    }\n\n    .dataframe tbody tr th {\n        vertical-align: top;\n    }\n\n    .dataframe thead th {\n        text-align: right;\n    }\n</style>\n<table border=\"1\" class=\"dataframe\">\n  <thead>\n    <tr style=\"text-align: right;\">\n      <th></th>\n      <th>Survived</th>\n      <th>Pclass</th>\n      <th>Sex</th>\n      <th>Age</th>\n      <th>Siblings/Spouses Aboard</th>\n      <th>Parents/Children Aboard</th>\n      <th>Fare</th>\n    </tr>\n  </thead>\n  <tbody>\n    <tr>\n      <th>0</th>\n      <td>0</td>\n      <td>3</td>\n      <td>1</td>\n      <td>22.0</td>\n      <td>1</td>\n      <td>0</td>\n      <td>7.2500</td>\n    </tr>\n    <tr>\n      <th>1</th>\n      <td>1</td>\n      <td>1</td>\n      <td>0</td>\n      <td>38.0</td>\n      <td>1</td>\n      <td>0</td>\n      <td>71.2833</td>\n    </tr>\n    <tr>\n      <th>2</th>\n      <td>1</td>\n      <td>3</td>\n      <td>0</td>\n      <td>26.0</td>\n      <td>0</td>\n      <td>0</td>\n      <td>7.9250</td>\n    </tr>\n    <tr>\n      <th>3</th>\n      <td>1</td>\n      <td>1</td>\n      <td>0</td>\n      <td>35.0</td>\n      <td>1</td>\n      <td>0</td>\n      <td>53.1000</td>\n    </tr>\n    <tr>\n      <th>4</th>\n      <td>0</td>\n      <td>3</td>\n      <td>1</td>\n      <td>35.0</td>\n      <td>0</td>\n      <td>0</td>\n      <td>8.0500</td>\n    </tr>\n  </tbody>\n</table>\n</div>"
     },
     "execution_count": 72,
     "metadata": {},
     "output_type": "execute_result"
    }
   ],
   "source": [
    "df = pd.read_csv(\"C:\\\\Users\\\\lenovo\\\\Downloads\\\\train.csv.\")\n",
    "\n",
    "dfs = df.drop('Name', axis = 1)\n",
    "dfs['Sex']= dfs['Sex'].apply(lambda x: 1 if x == 'male' else 0)\n",
    "\n",
    "dfs.head()"
   ],
   "metadata": {
    "collapsed": false,
    "ExecuteTime": {
     "end_time": "2024-02-09T20:20:49.433679100Z",
     "start_time": "2024-02-09T20:20:49.046857900Z"
    }
   },
   "id": "4c2b6f3efce93126",
   "execution_count": 72
  },
  {
   "cell_type": "code",
   "outputs": [
    {
     "name": "stdout",
     "output_type": "stream",
     "text": [
      "(577, 6)\n"
     ]
    }
   ],
   "source": [
    "x_train = np.array(dfs.drop('Survived', axis=1))\n",
    "y_train = np.array(dfs['Survived'])\n",
    "(p,q) = x_train.shape\n",
    "print(x_train.shape)\n",
    "\n",
    "def z_score_normalization(x):\n",
    "    mean = np.mean(x, axis=0)\n",
    "    std_dev = np.std(x, axis=0)\n",
    "    normalized_x = (x - mean) / std_dev\n",
    "    return normalized_x\n",
    "\n",
    "x_train = z_score_normalization(x_train)"
   ],
   "metadata": {
    "collapsed": false,
    "ExecuteTime": {
     "end_time": "2024-02-09T20:20:49.585301500Z",
     "start_time": "2024-02-09T20:20:49.434767100Z"
    }
   },
   "id": "d5613cdc0b6ec21d",
   "execution_count": 73
  },
  {
   "cell_type": "code",
   "outputs": [],
   "source": [
    "\n",
    "def loss(y, yh):\n",
    "    lossl = []  # Renamed the list variable to lossl\n",
    "    \n",
    "    for i in range(p):\n",
    "        loss_val = -y[i] * np.log(yh[i]) - (1 - y[i]) * np.log(1 - yh[i])\n",
    "        lossl.append(loss_val)\n",
    "    return lossl"
   ],
   "metadata": {
    "collapsed": false,
    "ExecuteTime": {
     "end_time": "2024-02-09T20:20:49.586381900Z",
     "start_time": "2024-02-09T20:20:49.467479400Z"
    }
   },
   "id": "f6a712f5aa348227",
   "execution_count": 74
  },
  {
   "cell_type": "code",
   "outputs": [],
   "source": [
    "def cost(y, yh):\n",
    "    m = len(y)\n",
    "    cost = 1/m * np.sum(loss(y, yh))\n",
    "    return cost"
   ],
   "metadata": {
    "collapsed": false,
    "ExecuteTime": {
     "end_time": "2024-02-09T20:20:49.682326Z",
     "start_time": "2024-02-09T20:20:49.479180500Z"
    }
   },
   "id": "a8bfa41e90300fe9",
   "execution_count": 75
  },
  {
   "cell_type": "code",
   "outputs": [],
   "source": [
    "def grad (x, w, b):\n",
    "    (p, q) = x.shape\n",
    "    dw = np.zeros(q)\n",
    "    db = 0\n",
    "    cost=0\n",
    "    ypr = []\n",
    "    \n",
    "    rs = np.sum(x_train, axis=1)\n",
    "    for i in range (p):\n",
    "        f=0\n",
    "        for j in range (q):\n",
    "            f = f + w * rs[j]\n",
    "        f += b\n",
    "  \n",
    "        yh = sigmoid (f)\n",
    "        ypr.append(yh)\n",
    "        \n",
    "    return ypr"
   ],
   "metadata": {
    "collapsed": false,
    "ExecuteTime": {
     "end_time": "2024-02-09T20:20:49.684489500Z",
     "start_time": "2024-02-09T20:20:49.502177100Z"
    }
   },
   "id": "5a9f4fa35830b16c",
   "execution_count": 76
  },
  {
   "cell_type": "code",
   "outputs": [],
   "source": [
    "\n",
    "\n",
    "def descent (x,y,b,lr,epochs, ypr):\n",
    "    rec = []\n",
    "    wl = []\n",
    "    w = 0\n",
    "    m = len(y)\n",
    "    lamb = 10\n",
    "    \n",
    "    y1 = y[:]\n",
    "    ypr1=ypr[:]\n",
    "    lll = loss(y,ypr)\n",
    "    for i in range(epochs):\n",
    "        for j in range(p):\n",
    "            jw = 1/m * lll[j] * np.log (1 - ypr1[j])\n",
    "        jw += lamb / m * .5\n",
    "        w = w - lr/m * np.sum (ypr - y) * x\n",
    "        wl.append(w)\n",
    "        rec.append(jw)\n",
    "        \n",
    "    return rec, wl"
   ],
   "metadata": {
    "collapsed": false,
    "ExecuteTime": {
     "end_time": "2024-02-09T20:20:49.758951700Z",
     "start_time": "2024-02-09T20:20:49.539725800Z"
    }
   },
   "id": "9cf050cdd596be0e",
   "execution_count": 77
  },
  {
   "cell_type": "code",
   "outputs": [],
   "source": [
    "w= np.full(p, 0.5)\n",
    "b=0\n",
    "sur =[]\n",
    "\n",
    "ypr = grad (x_train, w, 0)\n",
    "a = loss(y_train, ypr)\n",
    "epochs = 1000\n",
    "b, wl = descent (x_train, y_train, 0, 0.001, epochs, ypr)\n",
    "\n"
   ],
   "metadata": {
    "collapsed": false,
    "ExecuteTime": {
     "end_time": "2024-02-09T20:21:06.993088100Z",
     "start_time": "2024-02-09T20:20:49.571880600Z"
    }
   },
   "id": "6a4676cfeaab2394",
   "execution_count": 78
  },
  {
   "cell_type": "code",
   "outputs": [
    {
     "name": "stderr",
     "output_type": "stream",
     "text": [
      "IOPub data rate exceeded.\n",
      "The Jupyter server will temporarily stop sending output\n",
      "to the client in order to avoid crashing it.\n",
      "To change this limit, set the config variable\n",
      "`--ServerApp.iopub_data_rate_limit`.\n",
      "\n",
      "Current values:\n",
      "ServerApp.iopub_data_rate_limit=1000000.0 (bytes/sec)\n",
      "ServerApp.rate_limit_window=3.0 (secs)\n",
      "\n"
     ]
    }
   ],
   "source": [
    "print(b)"
   ],
   "metadata": {
    "collapsed": false,
    "ExecuteTime": {
     "end_time": "2024-02-09T20:21:39.432599200Z",
     "start_time": "2024-02-09T20:21:32.573234600Z"
    }
   },
   "id": "2431f4798f968817",
   "execution_count": 79
  },
  {
   "cell_type": "code",
   "outputs": [],
   "source": [],
   "metadata": {
    "collapsed": false,
    "ExecuteTime": {
     "end_time": "2024-02-09T20:21:07.021209400Z",
     "start_time": "2024-02-09T20:21:07.005106100Z"
    }
   },
   "id": "13a37962d8b0c700",
   "execution_count": 78
  },
  {
   "cell_type": "code",
   "outputs": [],
   "source": [],
   "metadata": {
    "collapsed": false,
    "ExecuteTime": {
     "end_time": "2024-02-09T20:21:07.050763700Z",
     "start_time": "2024-02-09T20:21:07.017376300Z"
    }
   },
   "id": "dde5db55c2326634",
   "execution_count": 78
  }
 ],
 "metadata": {
  "kernelspec": {
   "display_name": "Python 3",
   "language": "python",
   "name": "python3"
  },
  "language_info": {
   "codemirror_mode": {
    "name": "ipython",
    "version": 2
   },
   "file_extension": ".py",
   "mimetype": "text/x-python",
   "name": "python",
   "nbconvert_exporter": "python",
   "pygments_lexer": "ipython2",
   "version": "2.7.6"
  }
 },
 "nbformat": 4,
 "nbformat_minor": 5
}
